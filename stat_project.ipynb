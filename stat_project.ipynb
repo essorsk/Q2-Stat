{
 "cells": [
  {
   "cell_type": "markdown",
   "metadata": {},
   "source": [
    "### В проекте используется датасет imdb, содержащий информацию по 5 тыс. фильмам"
   ]
  },
  {
   "cell_type": "code",
   "execution_count": 1,
   "metadata": {},
   "outputs": [],
   "source": [
    "import numpy as np\n",
    "import pandas as pd\n",
    "import matplotlib.pyplot as plt\n",
    "from pylab import rcParams\n",
    "import seaborn as sns\n",
    "import warnings\n",
    "warnings.filterwarnings('ignore')\n",
    "%matplotlib inline"
   ]
  },
  {
   "cell_type": "code",
   "execution_count": 2,
   "metadata": {},
   "outputs": [
    {
     "data": {
      "text/plain": [
       "Index(['color', 'director_name', 'num_critic_for_reviews', 'duration',\n",
       "       'director_facebook_likes', 'actor_3_facebook_likes', 'actor_2_name',\n",
       "       'actor_1_facebook_likes', 'gross', 'genres', 'actor_1_name',\n",
       "       'movie_title', 'num_voted_users', 'cast_total_facebook_likes',\n",
       "       'actor_3_name', 'facenumber_in_poster', 'plot_keywords',\n",
       "       'movie_imdb_link', 'num_user_for_reviews', 'language', 'country',\n",
       "       'content_rating', 'budget', 'title_year', 'actor_2_facebook_likes',\n",
       "       'imdb_score', 'aspect_ratio', 'movie_facebook_likes'],\n",
       "      dtype='object')"
      ]
     },
     "execution_count": 2,
     "metadata": {},
     "output_type": "execute_result"
    }
   ],
   "source": [
    "row_data = pd.read_csv('metadata.csv', sep = ',')\n",
    "row_data.columns"
   ]
  },
  {
   "cell_type": "markdown",
   "metadata": {},
   "source": [
    "#### Уберем дубликаты и фильмы, которые короче 20 мин и длиннее 300"
   ]
  },
  {
   "cell_type": "code",
   "execution_count": 142,
   "metadata": {},
   "outputs": [],
   "source": [
    "mdata = row_data.drop_duplicates(['movie_title', 'director_name', 'country', 'title_year'])\n",
    "mdata = mdata.loc[(mdata['duration'].between(20, 300)), :]"
   ]
  },
  {
   "cell_type": "code",
   "execution_count": 10,
   "metadata": {},
   "outputs": [
    {
     "data": {
      "text/plain": [
       "20.0     1\n",
       "293.0    1\n",
       "Name: duration, dtype: int64"
      ]
     },
     "execution_count": 10,
     "metadata": {},
     "output_type": "execute_result"
    }
   ],
   "source": [
    "mdata['duration'].value_counts().tail(2)"
   ]
  },
  {
   "cell_type": "code",
   "execution_count": 11,
   "metadata": {},
   "outputs": [
    {
     "data": {
      "text/plain": [
       "(4896, 28)"
      ]
     },
     "execution_count": 11,
     "metadata": {},
     "output_type": "execute_result"
    }
   ],
   "source": [
    "mdata.shape"
   ]
  },
  {
   "cell_type": "markdown",
   "metadata": {},
   "source": [
    "####  Выведем общую статистическую информацию по датасету:"
   ]
  },
  {
   "cell_type": "code",
   "execution_count": 12,
   "metadata": {},
   "outputs": [
    {
     "data": {
      "text/html": [
       "<div>\n",
       "<style scoped>\n",
       "    .dataframe tbody tr th:only-of-type {\n",
       "        vertical-align: middle;\n",
       "    }\n",
       "\n",
       "    .dataframe tbody tr th {\n",
       "        vertical-align: top;\n",
       "    }\n",
       "\n",
       "    .dataframe thead th {\n",
       "        text-align: right;\n",
       "    }\n",
       "</style>\n",
       "<table border=\"1\" class=\"dataframe\">\n",
       "  <thead>\n",
       "    <tr style=\"text-align: right;\">\n",
       "      <th></th>\n",
       "      <th>num_critic_for_reviews</th>\n",
       "      <th>duration</th>\n",
       "      <th>director_facebook_likes</th>\n",
       "      <th>actor_3_facebook_likes</th>\n",
       "      <th>actor_1_facebook_likes</th>\n",
       "      <th>gross</th>\n",
       "      <th>num_voted_users</th>\n",
       "      <th>cast_total_facebook_likes</th>\n",
       "      <th>facenumber_in_poster</th>\n",
       "      <th>num_user_for_reviews</th>\n",
       "      <th>budget</th>\n",
       "      <th>title_year</th>\n",
       "      <th>actor_2_facebook_likes</th>\n",
       "      <th>imdb_score</th>\n",
       "      <th>aspect_ratio</th>\n",
       "      <th>movie_facebook_likes</th>\n",
       "    </tr>\n",
       "  </thead>\n",
       "  <tbody>\n",
       "    <tr>\n",
       "      <th>count</th>\n",
       "      <td>4852.0</td>\n",
       "      <td>4896.0</td>\n",
       "      <td>4800.0</td>\n",
       "      <td>4875.0</td>\n",
       "      <td>4889.0</td>\n",
       "      <td>4051.0</td>\n",
       "      <td>4896.0</td>\n",
       "      <td>4896.0</td>\n",
       "      <td>4883.0</td>\n",
       "      <td>4879.0</td>\n",
       "      <td>4.426000e+03</td>\n",
       "      <td>4797.0</td>\n",
       "      <td>4883.0</td>\n",
       "      <td>4896.0</td>\n",
       "      <td>4584.0</td>\n",
       "      <td>4896.0</td>\n",
       "    </tr>\n",
       "    <tr>\n",
       "      <th>mean</th>\n",
       "      <td>138.0</td>\n",
       "      <td>107.0</td>\n",
       "      <td>693.0</td>\n",
       "      <td>632.0</td>\n",
       "      <td>6509.0</td>\n",
       "      <td>47678154.0</td>\n",
       "      <td>82985.0</td>\n",
       "      <td>9601.0</td>\n",
       "      <td>1.0</td>\n",
       "      <td>269.0</td>\n",
       "      <td>3.931898e+07</td>\n",
       "      <td>2002.0</td>\n",
       "      <td>1626.0</td>\n",
       "      <td>6.0</td>\n",
       "      <td>2.0</td>\n",
       "      <td>7375.0</td>\n",
       "    </tr>\n",
       "    <tr>\n",
       "      <th>std</th>\n",
       "      <td>120.0</td>\n",
       "      <td>24.0</td>\n",
       "      <td>2837.0</td>\n",
       "      <td>1629.0</td>\n",
       "      <td>15132.0</td>\n",
       "      <td>67386136.0</td>\n",
       "      <td>138505.0</td>\n",
       "      <td>18193.0</td>\n",
       "      <td>2.0</td>\n",
       "      <td>373.0</td>\n",
       "      <td>2.087426e+08</td>\n",
       "      <td>12.0</td>\n",
       "      <td>4019.0</td>\n",
       "      <td>1.0</td>\n",
       "      <td>1.0</td>\n",
       "      <td>19240.0</td>\n",
       "    </tr>\n",
       "    <tr>\n",
       "      <th>min</th>\n",
       "      <td>1.0</td>\n",
       "      <td>20.0</td>\n",
       "      <td>0.0</td>\n",
       "      <td>0.0</td>\n",
       "      <td>0.0</td>\n",
       "      <td>162.0</td>\n",
       "      <td>5.0</td>\n",
       "      <td>0.0</td>\n",
       "      <td>0.0</td>\n",
       "      <td>1.0</td>\n",
       "      <td>2.180000e+02</td>\n",
       "      <td>1916.0</td>\n",
       "      <td>0.0</td>\n",
       "      <td>2.0</td>\n",
       "      <td>1.0</td>\n",
       "      <td>0.0</td>\n",
       "    </tr>\n",
       "    <tr>\n",
       "      <th>25%</th>\n",
       "      <td>50.0</td>\n",
       "      <td>93.0</td>\n",
       "      <td>7.0</td>\n",
       "      <td>132.0</td>\n",
       "      <td>610.0</td>\n",
       "      <td>5066248.0</td>\n",
       "      <td>8519.0</td>\n",
       "      <td>1400.0</td>\n",
       "      <td>0.0</td>\n",
       "      <td>64.0</td>\n",
       "      <td>6.000000e+06</td>\n",
       "      <td>1999.0</td>\n",
       "      <td>278.0</td>\n",
       "      <td>6.0</td>\n",
       "      <td>2.0</td>\n",
       "      <td>0.0</td>\n",
       "    </tr>\n",
       "    <tr>\n",
       "      <th>50%</th>\n",
       "      <td>109.0</td>\n",
       "      <td>103.0</td>\n",
       "      <td>48.0</td>\n",
       "      <td>366.0</td>\n",
       "      <td>982.0</td>\n",
       "      <td>25052000.0</td>\n",
       "      <td>33705.0</td>\n",
       "      <td>3050.0</td>\n",
       "      <td>1.0</td>\n",
       "      <td>154.0</td>\n",
       "      <td>1.985000e+07</td>\n",
       "      <td>2005.0</td>\n",
       "      <td>593.0</td>\n",
       "      <td>7.0</td>\n",
       "      <td>2.0</td>\n",
       "      <td>160.0</td>\n",
       "    </tr>\n",
       "    <tr>\n",
       "      <th>75%</th>\n",
       "      <td>192.0</td>\n",
       "      <td>118.0</td>\n",
       "      <td>190.0</td>\n",
       "      <td>633.0</td>\n",
       "      <td>11000.0</td>\n",
       "      <td>61196940.0</td>\n",
       "      <td>94147.0</td>\n",
       "      <td>13626.0</td>\n",
       "      <td>2.0</td>\n",
       "      <td>321.0</td>\n",
       "      <td>4.300000e+07</td>\n",
       "      <td>2011.0</td>\n",
       "      <td>912.0</td>\n",
       "      <td>7.0</td>\n",
       "      <td>2.0</td>\n",
       "      <td>2000.0</td>\n",
       "    </tr>\n",
       "    <tr>\n",
       "      <th>max</th>\n",
       "      <td>813.0</td>\n",
       "      <td>300.0</td>\n",
       "      <td>23000.0</td>\n",
       "      <td>23000.0</td>\n",
       "      <td>640000.0</td>\n",
       "      <td>760505847.0</td>\n",
       "      <td>1689764.0</td>\n",
       "      <td>656730.0</td>\n",
       "      <td>43.0</td>\n",
       "      <td>5060.0</td>\n",
       "      <td>1.221550e+10</td>\n",
       "      <td>2016.0</td>\n",
       "      <td>137000.0</td>\n",
       "      <td>10.0</td>\n",
       "      <td>16.0</td>\n",
       "      <td>349000.0</td>\n",
       "    </tr>\n",
       "  </tbody>\n",
       "</table>\n",
       "</div>"
      ],
      "text/plain": [
       "       num_critic_for_reviews  duration  director_facebook_likes  \\\n",
       "count                  4852.0    4896.0                   4800.0   \n",
       "mean                    138.0     107.0                    693.0   \n",
       "std                     120.0      24.0                   2837.0   \n",
       "min                       1.0      20.0                      0.0   \n",
       "25%                      50.0      93.0                      7.0   \n",
       "50%                     109.0     103.0                     48.0   \n",
       "75%                     192.0     118.0                    190.0   \n",
       "max                     813.0     300.0                  23000.0   \n",
       "\n",
       "       actor_3_facebook_likes  actor_1_facebook_likes        gross  \\\n",
       "count                  4875.0                  4889.0       4051.0   \n",
       "mean                    632.0                  6509.0   47678154.0   \n",
       "std                    1629.0                 15132.0   67386136.0   \n",
       "min                       0.0                     0.0        162.0   \n",
       "25%                     132.0                   610.0    5066248.0   \n",
       "50%                     366.0                   982.0   25052000.0   \n",
       "75%                     633.0                 11000.0   61196940.0   \n",
       "max                   23000.0                640000.0  760505847.0   \n",
       "\n",
       "       num_voted_users  cast_total_facebook_likes  facenumber_in_poster  \\\n",
       "count           4896.0                     4896.0                4883.0   \n",
       "mean           82985.0                     9601.0                   1.0   \n",
       "std           138505.0                    18193.0                   2.0   \n",
       "min                5.0                        0.0                   0.0   \n",
       "25%             8519.0                     1400.0                   0.0   \n",
       "50%            33705.0                     3050.0                   1.0   \n",
       "75%            94147.0                    13626.0                   2.0   \n",
       "max          1689764.0                   656730.0                  43.0   \n",
       "\n",
       "       num_user_for_reviews        budget  title_year  actor_2_facebook_likes  \\\n",
       "count                4879.0  4.426000e+03      4797.0                  4883.0   \n",
       "mean                  269.0  3.931898e+07      2002.0                  1626.0   \n",
       "std                   373.0  2.087426e+08        12.0                  4019.0   \n",
       "min                     1.0  2.180000e+02      1916.0                     0.0   \n",
       "25%                    64.0  6.000000e+06      1999.0                   278.0   \n",
       "50%                   154.0  1.985000e+07      2005.0                   593.0   \n",
       "75%                   321.0  4.300000e+07      2011.0                   912.0   \n",
       "max                  5060.0  1.221550e+10      2016.0                137000.0   \n",
       "\n",
       "       imdb_score  aspect_ratio  movie_facebook_likes  \n",
       "count      4896.0        4584.0                4896.0  \n",
       "mean          6.0           2.0                7375.0  \n",
       "std           1.0           1.0               19240.0  \n",
       "min           2.0           1.0                   0.0  \n",
       "25%           6.0           2.0                   0.0  \n",
       "50%           7.0           2.0                 160.0  \n",
       "75%           7.0           2.0                2000.0  \n",
       "max          10.0          16.0              349000.0  "
      ]
     },
     "execution_count": 12,
     "metadata": {},
     "output_type": "execute_result"
    }
   ],
   "source": [
    "mdata.describe().apply(round)"
   ]
  },
  {
   "cell_type": "markdown",
   "metadata": {},
   "source": [
    "#### Рассмотрим фильмы в разрезе продолжительности"
   ]
  },
  {
   "cell_type": "markdown",
   "metadata": {},
   "source": [
    "В Датасете предварительно вычистили фильмы короче 20 мин (короче, чем 1 серия сериала и длиннее 300 мин, как выбросы).\n",
    "\n",
    "Средняя продолжительность фильмов 107 минут, что только 25% фильмов короче 93 минут и меньше 25% длиннее 2х часов.\n",
    "\n",
    "Самый популярный формат фильмов - 1,5 часа.\n",
    "\n",
    "Продолжительность фильмов подчинена закону нормального распределения. \n"
   ]
  },
  {
   "cell_type": "code",
   "execution_count": 17,
   "metadata": {},
   "outputs": [
    {
     "data": {
      "image/png": "[encoded data removed]",
      "text/plain": [
       "<Figure size 432x288 with 1 Axes>"
      ]
     },
     "metadata": {
      "needs_background": "light"
     },
     "output_type": "display_data"
    }
   ],
   "source": [
    "plt.hist(mdata['duration'], bins = 50)\n",
    "plt.show()"
   ]
  },
  {
   "cell_type": "code",
   "execution_count": 18,
   "metadata": {},
   "outputs": [
    {
     "data": {
      "image/png": "[encoded data removed]",
      "text/plain": [
       "<Figure size 432x288 with 1 Axes>"
      ]
     },
     "metadata": {
      "needs_background": "light"
     },
     "output_type": "display_data"
    }
   ],
   "source": [
    "sns.boxplot(mdata['duration'], orient='v')\n",
    "plt.show()"
   ]
  },
  {
   "cell_type": "code",
   "execution_count": 20,
   "metadata": {},
   "outputs": [
    {
     "data": {
      "text/plain": [
       "0    90.0\n",
       "dtype: float64"
      ]
     },
     "execution_count": 20,
     "metadata": {},
     "output_type": "execute_result"
    }
   ],
   "source": [
    "mdata['duration'].mode()"
   ]
  },
  {
   "cell_type": "markdown",
   "metadata": {},
   "source": [
    "#### Динамика производства фильмов"
   ]
  },
  {
   "cell_type": "code",
   "execution_count": 80,
   "metadata": {},
   "outputs": [
    {
     "data": {
      "text/plain": [
       "0    2009.0\n",
       "dtype: float64"
      ]
     },
     "execution_count": 80,
     "metadata": {},
     "output_type": "execute_result"
    }
   ],
   "source": [
    "mdata['title_year'].mode()"
   ]
  },
  {
   "cell_type": "code",
   "execution_count": 76,
   "metadata": {},
   "outputs": [
    {
     "data": {
      "image/png": "[encoded data removed]",
      "text/plain": [
       "<Figure size 432x288 with 1 Axes>"
      ]
     },
     "metadata": {
      "needs_background": "light"
     },
     "output_type": "display_data"
    }
   ],
   "source": [
    "plt.hist(mdata['title_year'], bins = 50)\n",
    "plt.show()"
   ]
  },
  {
   "cell_type": "markdown",
   "metadata": {},
   "source": [
    "Видим, что   \n",
    "   фильмы в выборке представлены с 1916 года по 2016.\n",
    "   Больше всего фильмов 2009 года\n",
    "   В выборке 25% фильмов до 1999. С 2000 на каждые 5 лет приходится 25% фильмов.\n",
    "\n",
    "В целом, выборка отражает поведение индустрии производства фильмов и поведение зрителей.\n",
    "Примерно до 1995 - линейный рост производства фильмов. \n",
    "С появлением цифры и удешевление производства идет бум производства до 2005 - 2007 (квадратичный рост).\n",
    "Дальше - небольшой линейный рос, близкий к костанте. Показатель \"потолка\" производства на данном рынке при данных условиях.\n",
    "\n",
    "С другой стороны, график отражает потребительсоке поведение. Зритель чаще выбирает к просмотру новые фильмы. Старые ленты, уходят из выборок, за исключением знаковых, культовых лент.\n"
   ]
  },
  {
   "cell_type": "markdown",
   "metadata": {},
   "source": [
    "#### Рейтинги"
   ]
  },
  {
   "cell_type": "code",
   "execution_count": 24,
   "metadata": {},
   "outputs": [
    {
     "data": {
      "text/plain": [
       "0    6.7\n",
       "dtype: float64"
      ]
     },
     "execution_count": 24,
     "metadata": {},
     "output_type": "execute_result"
    }
   ],
   "source": [
    "mdata['imdb_score'].mode()"
   ]
  },
  {
   "cell_type": "code",
   "execution_count": 25,
   "metadata": {},
   "outputs": [
    {
     "data": {
      "text/plain": [
       "count    4896.000000\n",
       "mean        6.437112\n",
       "std         1.125549\n",
       "min         1.600000\n",
       "25%         5.800000\n",
       "50%         6.600000\n",
       "75%         7.200000\n",
       "max         9.500000\n",
       "Name: imdb_score, dtype: float64"
      ]
     },
     "execution_count": 25,
     "metadata": {},
     "output_type": "execute_result"
    }
   ],
   "source": [
    "mdata['imdb_score'].describe()"
   ]
  },
  {
   "cell_type": "code",
   "execution_count": 23,
   "metadata": {},
   "outputs": [
    {
     "data": {
      "image/png": "[encoded data removed]",
      "text/plain": [
       "<Figure size 432x288 with 1 Axes>"
      ]
     },
     "metadata": {
      "needs_background": "light"
     },
     "output_type": "display_data"
    }
   ],
   "source": [
    "plt.hist(mdata['imdb_score'], bins = 20)\n",
    "plt.show()"
   ]
  },
  {
   "cell_type": "markdown",
   "metadata": {},
   "source": [
    "По рейтингам представлены несколько систем оценок: лайки в фейсбуке по категориям, рейтинг imdb, aspect_ratio.\n",
    "  imdb_score - внутренний рейтинг imdb, присваевается каждому фильму. \n",
    "  \n",
    "Рейтинги фильмов подчинены закону нормального распределения.\n",
    "  \n",
    "  В выборку попали фильмы с рейтингом от 1.6 до 9.5.  Т.е. фактически 8-ми бальная система данной выборки.\n",
    "  Средняя оценка 6,4. Чаще всего оценку фильму дают 6.7 баллов.\n",
    "  25% фильмов имеют рейтинг ниже 5.8. 50% выборки имеют рейтинг от 5.8 до 7.2 включительно. \n",
    "  Только 25% фильмов попадают в категорию от 7.2 до 9.5 баллов. \n",
    "  \n",
    "Т.е при заявленной 10 бальной шкале, активно используется диапазон оценок от 4 до 8.5.\n",
    "Если предположить, что в генеральной совокупности средняя оценка фильма 5, то в нашу выборку, в целом, попали более качественные фильмы.\n",
    "Если в генеральной совокупности средняя  и мода выше 6, тогда получается, что люди склонны оценивать фильмы позитивно. Однако высшая оценка не поставлена ни 1 фильму из 5000.\n",
    "Если на словах, средняя оценка: фильм неплохой,но... Если фильм замечательный, то оценка будет: фильм отличный, но..."
   ]
  },
  {
   "cell_type": "markdown",
   "metadata": {},
   "source": [
    "#### Gross (кассовые продажи)"
   ]
  },
  {
   "cell_type": "markdown",
   "metadata": {},
   "source": [
    "Для чистоты анализа уберем из выборки строки без показателя кассовых продаж"
   ]
  },
  {
   "cell_type": "code",
   "execution_count": 81,
   "metadata": {},
   "outputs": [],
   "source": [
    "gross_imdb = mdata.loc[(mdata['gross'] != 'NaN'), :]"
   ]
  },
  {
   "cell_type": "code",
   "execution_count": 82,
   "metadata": {},
   "outputs": [
    {
     "data": {
      "text/plain": [
       "0    3000000.0\n",
       "1    8000000.0\n",
       "dtype: float64"
      ]
     },
     "execution_count": 82,
     "metadata": {},
     "output_type": "execute_result"
    }
   ],
   "source": [
    "gross_imdb['gross'].mode()"
   ]
  },
  {
   "cell_type": "code",
   "execution_count": null,
   "metadata": {},
   "outputs": [],
   "source": [
    "2 моды: 3 и 8 млн. у.е."
   ]
  },
  {
   "cell_type": "code",
   "execution_count": 83,
   "metadata": {},
   "outputs": [
    {
     "data": {
      "text/plain": [
       "count         4051\n",
       "mean      47678154\n",
       "std       67386136\n",
       "min            162\n",
       "25%        5066248\n",
       "50%       25052000\n",
       "75%       61196940\n",
       "max      760505847\n",
       "Name: gross, dtype: int64"
      ]
     },
     "execution_count": 83,
     "metadata": {},
     "output_type": "execute_result"
    }
   ],
   "source": [
    "gross_imdb['gross'].describe().apply(round)"
   ]
  },
  {
   "cell_type": "markdown",
   "metadata": {},
   "source": [
    "Самые прибыльные фильмы"
   ]
  },
  {
   "cell_type": "code",
   "execution_count": 106,
   "metadata": {},
   "outputs": [],
   "source": [
    "top_g = gross_imdb.loc[(gross_imdb['gross'] > 174000000), :]"
   ]
  },
  {
   "cell_type": "code",
   "execution_count": 107,
   "metadata": {},
   "outputs": [
    {
     "data": {
      "text/plain": [
       "0.2932764771777049"
      ]
     },
     "execution_count": 107,
     "metadata": {},
     "output_type": "execute_result"
    }
   ],
   "source": [
    "top_g['gross'].sum() / gross_imdb['gross'].sum()"
   ]
  },
  {
   "cell_type": "code",
   "execution_count": 108,
   "metadata": {},
   "outputs": [
    {
     "data": {
      "text/plain": [
       "0.05282646260182671"
      ]
     },
     "execution_count": 108,
     "metadata": {},
     "output_type": "execute_result"
    }
   ],
   "source": [
    "top_g['gross'].count() / gross_imdb['gross'].count()"
   ]
  },
  {
   "cell_type": "markdown",
   "metadata": {},
   "source": [
    "Фильмы с наименьшим показателем gross"
   ]
  },
  {
   "cell_type": "code",
   "execution_count": 139,
   "metadata": {},
   "outputs": [],
   "source": [
    "low_g = gross_imdb.loc[(gross_imdb['gross'] < 5000000), :]"
   ]
  },
  {
   "cell_type": "code",
   "execution_count": 140,
   "metadata": {},
   "outputs": [
    {
     "data": {
      "text/plain": [
       "0.690621513073138"
      ]
     },
     "execution_count": 140,
     "metadata": {},
     "output_type": "execute_result"
    }
   ],
   "source": [
    "low_g['gross'].sum() *100 / gross_imdb['gross'].sum()"
   ]
  },
  {
   "cell_type": "code",
   "execution_count": 141,
   "metadata": {},
   "outputs": [
    {
     "data": {
      "text/plain": [
       "0.24784003949642064"
      ]
     },
     "execution_count": 141,
     "metadata": {},
     "output_type": "execute_result"
    }
   ],
   "source": [
    "low_g['gross'].count() / gross_imdb['gross'].count()"
   ]
  },
  {
   "cell_type": "code",
   "execution_count": 84,
   "metadata": {},
   "outputs": [
    {
     "data": {
      "image/png": "[encoded data removed]",
      "text/plain": [
       "<Figure size 432x288 with 1 Axes>"
      ]
     },
     "metadata": {
      "needs_background": "light"
     },
     "output_type": "display_data"
    }
   ],
   "source": [
    "plt.hist(gross_imdb['gross'], bins = 60)\n",
    "plt.show()"
   ]
  },
  {
   "cell_type": "markdown",
   "metadata": {},
   "source": [
    "По данным сложно сказать в какой валюте представлен показатель gross.\n",
    "В целом, выборка выглядит следующим образом:\n",
    "Разброс от 162 до 761 млн у.е. Т.е. разброс почти в 5 млн раз.\n",
    "5% топ фильмов (дороже 174 млн. у.е.) в выборке приносят 29% продаж.\n",
    "10% фильмов (дешевле 374 тыс у.е.) составляют 0.025% продаж.\n",
    "\n",
    "Другими словами, только 5% фильмов приносят сверхвысокую кассу.\n",
    "А 70% фильмов имеют кассу ниже 5 млн у.е. и в общем котле составляют лишь 0.24% от сборов."
   ]
  },
  {
   "cell_type": "markdown",
   "metadata": {},
   "source": [
    "Посмотрим если корреляция между показателями:"
   ]
  },
  {
   "cell_type": "code",
   "execution_count": 41,
   "metadata": {},
   "outputs": [
    {
     "data": {
      "text/html": [
       "<div>\n",
       "<style scoped>\n",
       "    .dataframe tbody tr th:only-of-type {\n",
       "        vertical-align: middle;\n",
       "    }\n",
       "\n",
       "    .dataframe tbody tr th {\n",
       "        vertical-align: top;\n",
       "    }\n",
       "\n",
       "    .dataframe thead th {\n",
       "        text-align: right;\n",
       "    }\n",
       "</style>\n",
       "<table border=\"1\" class=\"dataframe\">\n",
       "  <thead>\n",
       "    <tr style=\"text-align: right;\">\n",
       "      <th></th>\n",
       "      <th>gross</th>\n",
       "      <th>imdb_score</th>\n",
       "    </tr>\n",
       "  </thead>\n",
       "  <tbody>\n",
       "    <tr>\n",
       "      <th>gross</th>\n",
       "      <td>1.000000</td>\n",
       "      <td>0.199825</td>\n",
       "    </tr>\n",
       "    <tr>\n",
       "      <th>imdb_score</th>\n",
       "      <td>0.199825</td>\n",
       "      <td>1.000000</td>\n",
       "    </tr>\n",
       "  </tbody>\n",
       "</table>\n",
       "</div>"
      ],
      "text/plain": [
       "               gross  imdb_score\n",
       "gross       1.000000    0.199825\n",
       "imdb_score  0.199825    1.000000"
      ]
     },
     "execution_count": 41,
     "metadata": {},
     "output_type": "execute_result"
    }
   ],
   "source": [
    "corr_gross = gross_imdb.loc[:, ['gross', 'imdb_score']].corr()\n",
    "corr_gross"
   ]
  },
  {
   "cell_type": "markdown",
   "metadata": {},
   "source": [
    "Корреляция: 'gross' vs 'imdb_score' 0.19. Что не дает основания сказать, что чем больше касса фильма, тем выше его рейтинг в базе imdb или наоборот. "
   ]
  },
  {
   "cell_type": "code",
   "execution_count": 42,
   "metadata": {},
   "outputs": [
    {
     "data": {
      "text/html": [
       "<div>\n",
       "<style scoped>\n",
       "    .dataframe tbody tr th:only-of-type {\n",
       "        vertical-align: middle;\n",
       "    }\n",
       "\n",
       "    .dataframe tbody tr th {\n",
       "        vertical-align: top;\n",
       "    }\n",
       "\n",
       "    .dataframe thead th {\n",
       "        text-align: right;\n",
       "    }\n",
       "</style>\n",
       "<table border=\"1\" class=\"dataframe\">\n",
       "  <thead>\n",
       "    <tr style=\"text-align: right;\">\n",
       "      <th></th>\n",
       "      <th>gross</th>\n",
       "      <th>budget</th>\n",
       "    </tr>\n",
       "  </thead>\n",
       "  <tbody>\n",
       "    <tr>\n",
       "      <th>gross</th>\n",
       "      <td>1.000000</td>\n",
       "      <td>0.096652</td>\n",
       "    </tr>\n",
       "    <tr>\n",
       "      <th>budget</th>\n",
       "      <td>0.096652</td>\n",
       "      <td>1.000000</td>\n",
       "    </tr>\n",
       "  </tbody>\n",
       "</table>\n",
       "</div>"
      ],
      "text/plain": [
       "           gross    budget\n",
       "gross   1.000000  0.096652\n",
       "budget  0.096652  1.000000"
      ]
     },
     "execution_count": 42,
     "metadata": {},
     "output_type": "execute_result"
    }
   ],
   "source": [
    "corr_gb = gross_imdb.loc[:, ['gross', 'budget']].corr()\n",
    "corr_gb"
   ]
  },
  {
   "cell_type": "markdown",
   "metadata": {},
   "source": [
    "Корреляция: 'gross' vs 'budget' показывает слабую корреляцию в 0.096. Это говорит о том, что бюджет фильма не гарантирует его кассовые сборы."
   ]
  },
  {
   "cell_type": "code",
   "execution_count": 45,
   "metadata": {},
   "outputs": [
    {
     "data": {
      "text/html": [
       "<div>\n",
       "<style scoped>\n",
       "    .dataframe tbody tr th:only-of-type {\n",
       "        vertical-align: middle;\n",
       "    }\n",
       "\n",
       "    .dataframe tbody tr th {\n",
       "        vertical-align: top;\n",
       "    }\n",
       "\n",
       "    .dataframe thead th {\n",
       "        text-align: right;\n",
       "    }\n",
       "</style>\n",
       "<table border=\"1\" class=\"dataframe\">\n",
       "  <thead>\n",
       "    <tr style=\"text-align: right;\">\n",
       "      <th></th>\n",
       "      <th>gross</th>\n",
       "      <th>movie_facebook_likes</th>\n",
       "    </tr>\n",
       "  </thead>\n",
       "  <tbody>\n",
       "    <tr>\n",
       "      <th>gross</th>\n",
       "      <td>1.000000</td>\n",
       "      <td>0.366536</td>\n",
       "    </tr>\n",
       "    <tr>\n",
       "      <th>movie_facebook_likes</th>\n",
       "      <td>0.366536</td>\n",
       "      <td>1.000000</td>\n",
       "    </tr>\n",
       "  </tbody>\n",
       "</table>\n",
       "</div>"
      ],
      "text/plain": [
       "                         gross  movie_facebook_likes\n",
       "gross                 1.000000              0.366536\n",
       "movie_facebook_likes  0.366536              1.000000"
      ]
     },
     "execution_count": 45,
     "metadata": {},
     "output_type": "execute_result"
    }
   ],
   "source": [
    "corr_glike = gross_imdb.loc[:, ['gross', 'movie_facebook_likes']].corr()\n",
    "corr_glike"
   ]
  },
  {
   "cell_type": "markdown",
   "metadata": {},
   "source": [
    "Корреляция: 'gross' vs 'movie_facebook_likes' показывает более сильную корреляцию в 0.366. Возможно, не прямая связь, но она есть. Например, чем больше человек посмотрели фильм и он им понравился, тем больше лайков в соц сетях, тем больше людей пойдут делать еще большую кассу и будет еще больше лайков."
   ]
  },
  {
   "cell_type": "markdown",
   "metadata": {},
   "source": [
    "#### Представленность по странам"
   ]
  },
  {
   "cell_type": "code",
   "execution_count": 34,
   "metadata": {},
   "outputs": [
    {
     "data": {
      "text/plain": [
       "USA             3702\n",
       "UK               430\n",
       "France           154\n",
       "Canada           124\n",
       "Germany           94\n",
       "Australia         52\n",
       "Spain             33\n",
       "India             31\n",
       "China             28\n",
       "Italy             23\n",
       "Japan             22\n",
       "Hong Kong         17\n",
       "Mexico            17\n",
       "South Korea       14\n",
       "New Zealand       13\n",
       "Ireland           12\n",
       "Denmark           11\n",
       "Russia            11\n",
       "South Africa       8\n",
       "Brazil             8\n",
       "Name: country, dtype: int64"
      ]
     },
     "execution_count": 34,
     "metadata": {},
     "output_type": "execute_result"
    }
   ],
   "source": [
    "mdata['country'].value_counts().head(20)"
   ]
  },
  {
   "cell_type": "markdown",
   "metadata": {},
   "source": [
    "На США приходится 75% фильмов, на следующие 4 страны еще 16%. Получается, что имеющийся датасет не репрезентативный в плане представленности стран. Поэтому рассмотрим Топ-3 страны по отдельности."
   ]
  },
  {
   "cell_type": "markdown",
   "metadata": {},
   "source": [
    "#### США"
   ]
  },
  {
   "cell_type": "code",
   "execution_count": 36,
   "metadata": {},
   "outputs": [],
   "source": [
    "usa_imdb = mdata.loc[(mdata['country'] == 'USA'), :]"
   ]
  },
  {
   "cell_type": "code",
   "execution_count": 12,
   "metadata": {},
   "outputs": [
    {
     "data": {
      "text/html": [
       "<div>\n",
       "<style scoped>\n",
       "    .dataframe tbody tr th:only-of-type {\n",
       "        vertical-align: middle;\n",
       "    }\n",
       "\n",
       "    .dataframe tbody tr th {\n",
       "        vertical-align: top;\n",
       "    }\n",
       "\n",
       "    .dataframe thead th {\n",
       "        text-align: right;\n",
       "    }\n",
       "</style>\n",
       "<table border=\"1\" class=\"dataframe\">\n",
       "  <thead>\n",
       "    <tr style=\"text-align: right;\">\n",
       "      <th></th>\n",
       "      <th>num_critic_for_reviews</th>\n",
       "      <th>duration</th>\n",
       "      <th>director_facebook_likes</th>\n",
       "      <th>actor_3_facebook_likes</th>\n",
       "      <th>actor_1_facebook_likes</th>\n",
       "      <th>gross</th>\n",
       "      <th>num_voted_users</th>\n",
       "      <th>cast_total_facebook_likes</th>\n",
       "      <th>facenumber_in_poster</th>\n",
       "      <th>num_user_for_reviews</th>\n",
       "      <th>budget</th>\n",
       "      <th>title_year</th>\n",
       "      <th>actor_2_facebook_likes</th>\n",
       "      <th>imdb_score</th>\n",
       "      <th>aspect_ratio</th>\n",
       "      <th>movie_facebook_likes</th>\n",
       "    </tr>\n",
       "  </thead>\n",
       "  <tbody>\n",
       "    <tr>\n",
       "      <th>count</th>\n",
       "      <td>3673.0</td>\n",
       "      <td>3705.0</td>\n",
       "      <td>3638.0</td>\n",
       "      <td>3698.0</td>\n",
       "      <td>3707.0</td>\n",
       "      <td>3154.0</td>\n",
       "      <td>3711.0</td>\n",
       "      <td>3711.0</td>\n",
       "      <td>3699.0</td>\n",
       "      <td>3698.0</td>\n",
       "      <td>3416.0</td>\n",
       "      <td>3638.0</td>\n",
       "      <td>3704.0</td>\n",
       "      <td>3711.0</td>\n",
       "      <td>3491.0</td>\n",
       "      <td>3711.0</td>\n",
       "    </tr>\n",
       "    <tr>\n",
       "      <th>mean</th>\n",
       "      <td>142.0</td>\n",
       "      <td>106.0</td>\n",
       "      <td>830.0</td>\n",
       "      <td>718.0</td>\n",
       "      <td>7235.0</td>\n",
       "      <td>54530550.0</td>\n",
       "      <td>90471.0</td>\n",
       "      <td>10758.0</td>\n",
       "      <td>1.0</td>\n",
       "      <td>284.0</td>\n",
       "      <td>35199197.0</td>\n",
       "      <td>2002.0</td>\n",
       "      <td>1841.0</td>\n",
       "      <td>6.0</td>\n",
       "      <td>2.0</td>\n",
       "      <td>7799.0</td>\n",
       "    </tr>\n",
       "    <tr>\n",
       "      <th>std</th>\n",
       "      <td>123.0</td>\n",
       "      <td>24.0</td>\n",
       "      <td>3181.0</td>\n",
       "      <td>1766.0</td>\n",
       "      <td>16762.0</td>\n",
       "      <td>70913204.0</td>\n",
       "      <td>147696.0</td>\n",
       "      <td>19970.0</td>\n",
       "      <td>2.0</td>\n",
       "      <td>385.0</td>\n",
       "      <td>42043172.0</td>\n",
       "      <td>13.0</td>\n",
       "      <td>4367.0</td>\n",
       "      <td>1.0</td>\n",
       "      <td>1.0</td>\n",
       "      <td>20113.0</td>\n",
       "    </tr>\n",
       "    <tr>\n",
       "      <th>min</th>\n",
       "      <td>1.0</td>\n",
       "      <td>7.0</td>\n",
       "      <td>0.0</td>\n",
       "      <td>0.0</td>\n",
       "      <td>0.0</td>\n",
       "      <td>703.0</td>\n",
       "      <td>5.0</td>\n",
       "      <td>0.0</td>\n",
       "      <td>0.0</td>\n",
       "      <td>1.0</td>\n",
       "      <td>218.0</td>\n",
       "      <td>1916.0</td>\n",
       "      <td>0.0</td>\n",
       "      <td>2.0</td>\n",
       "      <td>1.0</td>\n",
       "      <td>0.0</td>\n",
       "    </tr>\n",
       "    <tr>\n",
       "      <th>25%</th>\n",
       "      <td>51.0</td>\n",
       "      <td>93.0</td>\n",
       "      <td>8.0</td>\n",
       "      <td>192.0</td>\n",
       "      <td>700.0</td>\n",
       "      <td>9592406.0</td>\n",
       "      <td>9856.0</td>\n",
       "      <td>1784.0</td>\n",
       "      <td>0.0</td>\n",
       "      <td>73.0</td>\n",
       "      <td>6000000.0</td>\n",
       "      <td>1998.0</td>\n",
       "      <td>366.0</td>\n",
       "      <td>6.0</td>\n",
       "      <td>2.0</td>\n",
       "      <td>0.0</td>\n",
       "    </tr>\n",
       "    <tr>\n",
       "      <th>50%</th>\n",
       "      <td>112.0</td>\n",
       "      <td>103.0</td>\n",
       "      <td>52.0</td>\n",
       "      <td>428.0</td>\n",
       "      <td>1000.0</td>\n",
       "      <td>31837374.0</td>\n",
       "      <td>38893.0</td>\n",
       "      <td>3648.0</td>\n",
       "      <td>1.0</td>\n",
       "      <td>166.0</td>\n",
       "      <td>20000000.0</td>\n",
       "      <td>2005.0</td>\n",
       "      <td>655.0</td>\n",
       "      <td>6.0</td>\n",
       "      <td>2.0</td>\n",
       "      <td>181.0</td>\n",
       "    </tr>\n",
       "    <tr>\n",
       "      <th>75%</th>\n",
       "      <td>195.0</td>\n",
       "      <td>117.0</td>\n",
       "      <td>209.0</td>\n",
       "      <td>681.0</td>\n",
       "      <td>12000.0</td>\n",
       "      <td>71346990.0</td>\n",
       "      <td>105295.0</td>\n",
       "      <td>14827.0</td>\n",
       "      <td>2.0</td>\n",
       "      <td>341.0</td>\n",
       "      <td>48250000.0</td>\n",
       "      <td>2010.0</td>\n",
       "      <td>956.0</td>\n",
       "      <td>7.0</td>\n",
       "      <td>2.0</td>\n",
       "      <td>3000.0</td>\n",
       "    </tr>\n",
       "    <tr>\n",
       "      <th>max</th>\n",
       "      <td>813.0</td>\n",
       "      <td>330.0</td>\n",
       "      <td>23000.0</td>\n",
       "      <td>23000.0</td>\n",
       "      <td>640000.0</td>\n",
       "      <td>760505847.0</td>\n",
       "      <td>1689764.0</td>\n",
       "      <td>656730.0</td>\n",
       "      <td>43.0</td>\n",
       "      <td>4667.0</td>\n",
       "      <td>300000000.0</td>\n",
       "      <td>2016.0</td>\n",
       "      <td>137000.0</td>\n",
       "      <td>9.0</td>\n",
       "      <td>16.0</td>\n",
       "      <td>349000.0</td>\n",
       "    </tr>\n",
       "  </tbody>\n",
       "</table>\n",
       "</div>"
      ],
      "text/plain": [
       "       num_critic_for_reviews  duration  director_facebook_likes  \\\n",
       "count                  3673.0    3705.0                   3638.0   \n",
       "mean                    142.0     106.0                    830.0   \n",
       "std                     123.0      24.0                   3181.0   \n",
       "min                       1.0       7.0                      0.0   \n",
       "25%                      51.0      93.0                      8.0   \n",
       "50%                     112.0     103.0                     52.0   \n",
       "75%                     195.0     117.0                    209.0   \n",
       "max                     813.0     330.0                  23000.0   \n",
       "\n",
       "       actor_3_facebook_likes  actor_1_facebook_likes        gross  \\\n",
       "count                  3698.0                  3707.0       3154.0   \n",
       "mean                    718.0                  7235.0   54530550.0   \n",
       "std                    1766.0                 16762.0   70913204.0   \n",
       "min                       0.0                     0.0        703.0   \n",
       "25%                     192.0                   700.0    9592406.0   \n",
       "50%                     428.0                  1000.0   31837374.0   \n",
       "75%                     681.0                 12000.0   71346990.0   \n",
       "max                   23000.0                640000.0  760505847.0   \n",
       "\n",
       "       num_voted_users  cast_total_facebook_likes  facenumber_in_poster  \\\n",
       "count           3711.0                     3711.0                3699.0   \n",
       "mean           90471.0                    10758.0                   1.0   \n",
       "std           147696.0                    19970.0                   2.0   \n",
       "min                5.0                        0.0                   0.0   \n",
       "25%             9856.0                     1784.0                   0.0   \n",
       "50%            38893.0                     3648.0                   1.0   \n",
       "75%           105295.0                    14827.0                   2.0   \n",
       "max          1689764.0                   656730.0                  43.0   \n",
       "\n",
       "       num_user_for_reviews       budget  title_year  actor_2_facebook_likes  \\\n",
       "count                3698.0       3416.0      3638.0                  3704.0   \n",
       "mean                  284.0   35199197.0      2002.0                  1841.0   \n",
       "std                   385.0   42043172.0        13.0                  4367.0   \n",
       "min                     1.0        218.0      1916.0                     0.0   \n",
       "25%                    73.0    6000000.0      1998.0                   366.0   \n",
       "50%                   166.0   20000000.0      2005.0                   655.0   \n",
       "75%                   341.0   48250000.0      2010.0                   956.0   \n",
       "max                  4667.0  300000000.0      2016.0                137000.0   \n",
       "\n",
       "       imdb_score  aspect_ratio  movie_facebook_likes  \n",
       "count      3711.0        3491.0                3711.0  \n",
       "mean          6.0           2.0                7799.0  \n",
       "std           1.0           1.0               20113.0  \n",
       "min           2.0           1.0                   0.0  \n",
       "25%           6.0           2.0                   0.0  \n",
       "50%           6.0           2.0                 181.0  \n",
       "75%           7.0           2.0                3000.0  \n",
       "max           9.0          16.0              349000.0  "
      ]
     },
     "execution_count": 12,
     "metadata": {},
     "output_type": "execute_result"
    }
   ],
   "source": [
    "usa_imdb.describe().apply(round)"
   ]
  },
  {
   "cell_type": "markdown",
   "metadata": {},
   "source": [
    "Поскольку фильмов производства США - это 75% базы, то и частная выборка совпадает с \"генеральной совокупностью\"."
   ]
  },
  {
   "cell_type": "markdown",
   "metadata": {},
   "source": [
    "#### Англия"
   ]
  },
  {
   "cell_type": "code",
   "execution_count": 143,
   "metadata": {},
   "outputs": [],
   "source": [
    "uk_imdb = mdata.loc[(mdata['country'] == 'UK'), :]"
   ]
  },
  {
   "cell_type": "code",
   "execution_count": 144,
   "metadata": {},
   "outputs": [
    {
     "data": {
      "text/html": [
       "<div>\n",
       "<style scoped>\n",
       "    .dataframe tbody tr th:only-of-type {\n",
       "        vertical-align: middle;\n",
       "    }\n",
       "\n",
       "    .dataframe tbody tr th {\n",
       "        vertical-align: top;\n",
       "    }\n",
       "\n",
       "    .dataframe thead th {\n",
       "        text-align: right;\n",
       "    }\n",
       "</style>\n",
       "<table border=\"1\" class=\"dataframe\">\n",
       "  <thead>\n",
       "    <tr style=\"text-align: right;\">\n",
       "      <th></th>\n",
       "      <th>num_critic_for_reviews</th>\n",
       "      <th>duration</th>\n",
       "      <th>director_facebook_likes</th>\n",
       "      <th>actor_3_facebook_likes</th>\n",
       "      <th>actor_1_facebook_likes</th>\n",
       "      <th>gross</th>\n",
       "      <th>num_voted_users</th>\n",
       "      <th>cast_total_facebook_likes</th>\n",
       "      <th>facenumber_in_poster</th>\n",
       "      <th>num_user_for_reviews</th>\n",
       "      <th>budget</th>\n",
       "      <th>title_year</th>\n",
       "      <th>actor_2_facebook_likes</th>\n",
       "      <th>imdb_score</th>\n",
       "      <th>aspect_ratio</th>\n",
       "      <th>movie_facebook_likes</th>\n",
       "    </tr>\n",
       "  </thead>\n",
       "  <tbody>\n",
       "    <tr>\n",
       "      <th>count</th>\n",
       "      <td>428.0</td>\n",
       "      <td>430.0</td>\n",
       "      <td>418.0</td>\n",
       "      <td>429.0</td>\n",
       "      <td>430.0</td>\n",
       "      <td>352.0</td>\n",
       "      <td>430.0</td>\n",
       "      <td>430.0</td>\n",
       "      <td>430.0</td>\n",
       "      <td>428.0</td>\n",
       "      <td>365.0</td>\n",
       "      <td>418.0</td>\n",
       "      <td>430.0</td>\n",
       "      <td>430.0</td>\n",
       "      <td>409.0</td>\n",
       "      <td>430.0</td>\n",
       "    </tr>\n",
       "    <tr>\n",
       "      <th>mean</th>\n",
       "      <td>151.0</td>\n",
       "      <td>110.0</td>\n",
       "      <td>271.0</td>\n",
       "      <td>481.0</td>\n",
       "      <td>5669.0</td>\n",
       "      <td>30499459.0</td>\n",
       "      <td>76980.0</td>\n",
       "      <td>8013.0</td>\n",
       "      <td>1.0</td>\n",
       "      <td>269.0</td>\n",
       "      <td>26466135.0</td>\n",
       "      <td>2001.0</td>\n",
       "      <td>1255.0</td>\n",
       "      <td>7.0</td>\n",
       "      <td>2.0</td>\n",
       "      <td>7678.0</td>\n",
       "    </tr>\n",
       "    <tr>\n",
       "      <th>std</th>\n",
       "      <td>121.0</td>\n",
       "      <td>24.0</td>\n",
       "      <td>1226.0</td>\n",
       "      <td>1353.0</td>\n",
       "      <td>8497.0</td>\n",
       "      <td>53136681.0</td>\n",
       "      <td>111727.0</td>\n",
       "      <td>11526.0</td>\n",
       "      <td>2.0</td>\n",
       "      <td>326.0</td>\n",
       "      <td>36961570.0</td>\n",
       "      <td>12.0</td>\n",
       "      <td>3071.0</td>\n",
       "      <td>1.0</td>\n",
       "      <td>1.0</td>\n",
       "      <td>18477.0</td>\n",
       "    </tr>\n",
       "    <tr>\n",
       "      <th>min</th>\n",
       "      <td>1.0</td>\n",
       "      <td>24.0</td>\n",
       "      <td>0.0</td>\n",
       "      <td>0.0</td>\n",
       "      <td>0.0</td>\n",
       "      <td>4756.0</td>\n",
       "      <td>7.0</td>\n",
       "      <td>0.0</td>\n",
       "      <td>0.0</td>\n",
       "      <td>2.0</td>\n",
       "      <td>14000.0</td>\n",
       "      <td>1957.0</td>\n",
       "      <td>0.0</td>\n",
       "      <td>3.0</td>\n",
       "      <td>1.0</td>\n",
       "      <td>0.0</td>\n",
       "    </tr>\n",
       "    <tr>\n",
       "      <th>25%</th>\n",
       "      <td>58.0</td>\n",
       "      <td>97.0</td>\n",
       "      <td>7.0</td>\n",
       "      <td>121.0</td>\n",
       "      <td>566.0</td>\n",
       "      <td>2253592.0</td>\n",
       "      <td>10740.0</td>\n",
       "      <td>1252.0</td>\n",
       "      <td>0.0</td>\n",
       "      <td>74.0</td>\n",
       "      <td>6000000.0</td>\n",
       "      <td>1998.0</td>\n",
       "      <td>228.0</td>\n",
       "      <td>6.0</td>\n",
       "      <td>2.0</td>\n",
       "      <td>0.0</td>\n",
       "    </tr>\n",
       "    <tr>\n",
       "      <th>50%</th>\n",
       "      <td>124.0</td>\n",
       "      <td>107.0</td>\n",
       "      <td>46.0</td>\n",
       "      <td>256.0</td>\n",
       "      <td>900.0</td>\n",
       "      <td>13145156.0</td>\n",
       "      <td>32407.0</td>\n",
       "      <td>2364.0</td>\n",
       "      <td>1.0</td>\n",
       "      <td>165.0</td>\n",
       "      <td>14000000.0</td>\n",
       "      <td>2005.0</td>\n",
       "      <td>497.0</td>\n",
       "      <td>7.0</td>\n",
       "      <td>2.0</td>\n",
       "      <td>95.0</td>\n",
       "    </tr>\n",
       "    <tr>\n",
       "      <th>75%</th>\n",
       "      <td>209.0</td>\n",
       "      <td>121.0</td>\n",
       "      <td>175.0</td>\n",
       "      <td>533.0</td>\n",
       "      <td>10750.0</td>\n",
       "      <td>35458762.0</td>\n",
       "      <td>86318.0</td>\n",
       "      <td>12720.0</td>\n",
       "      <td>2.0</td>\n",
       "      <td>318.0</td>\n",
       "      <td>30000000.0</td>\n",
       "      <td>2010.0</td>\n",
       "      <td>796.0</td>\n",
       "      <td>7.0</td>\n",
       "      <td>2.0</td>\n",
       "      <td>10000.0</td>\n",
       "    </tr>\n",
       "    <tr>\n",
       "      <th>max</th>\n",
       "      <td>750.0</td>\n",
       "      <td>251.0</td>\n",
       "      <td>14000.0</td>\n",
       "      <td>19000.0</td>\n",
       "      <td>49000.0</td>\n",
       "      <td>362645141.0</td>\n",
       "      <td>641997.0</td>\n",
       "      <td>77823.0</td>\n",
       "      <td>9.0</td>\n",
       "      <td>2301.0</td>\n",
       "      <td>250000000.0</td>\n",
       "      <td>2016.0</td>\n",
       "      <td>22000.0</td>\n",
       "      <td>9.0</td>\n",
       "      <td>16.0</td>\n",
       "      <td>165000.0</td>\n",
       "    </tr>\n",
       "  </tbody>\n",
       "</table>\n",
       "</div>"
      ],
      "text/plain": [
       "       num_critic_for_reviews  duration  director_facebook_likes  \\\n",
       "count                   428.0     430.0                    418.0   \n",
       "mean                    151.0     110.0                    271.0   \n",
       "std                     121.0      24.0                   1226.0   \n",
       "min                       1.0      24.0                      0.0   \n",
       "25%                      58.0      97.0                      7.0   \n",
       "50%                     124.0     107.0                     46.0   \n",
       "75%                     209.0     121.0                    175.0   \n",
       "max                     750.0     251.0                  14000.0   \n",
       "\n",
       "       actor_3_facebook_likes  actor_1_facebook_likes        gross  \\\n",
       "count                   429.0                   430.0        352.0   \n",
       "mean                    481.0                  5669.0   30499459.0   \n",
       "std                    1353.0                  8497.0   53136681.0   \n",
       "min                       0.0                     0.0       4756.0   \n",
       "25%                     121.0                   566.0    2253592.0   \n",
       "50%                     256.0                   900.0   13145156.0   \n",
       "75%                     533.0                 10750.0   35458762.0   \n",
       "max                   19000.0                 49000.0  362645141.0   \n",
       "\n",
       "       num_voted_users  cast_total_facebook_likes  facenumber_in_poster  \\\n",
       "count            430.0                      430.0                 430.0   \n",
       "mean           76980.0                     8013.0                   1.0   \n",
       "std           111727.0                    11526.0                   2.0   \n",
       "min                7.0                        0.0                   0.0   \n",
       "25%            10740.0                     1252.0                   0.0   \n",
       "50%            32407.0                     2364.0                   1.0   \n",
       "75%            86318.0                    12720.0                   2.0   \n",
       "max           641997.0                    77823.0                   9.0   \n",
       "\n",
       "       num_user_for_reviews       budget  title_year  actor_2_facebook_likes  \\\n",
       "count                 428.0        365.0       418.0                   430.0   \n",
       "mean                  269.0   26466135.0      2001.0                  1255.0   \n",
       "std                   326.0   36961570.0        12.0                  3071.0   \n",
       "min                     2.0      14000.0      1957.0                     0.0   \n",
       "25%                    74.0    6000000.0      1998.0                   228.0   \n",
       "50%                   165.0   14000000.0      2005.0                   497.0   \n",
       "75%                   318.0   30000000.0      2010.0                   796.0   \n",
       "max                  2301.0  250000000.0      2016.0                 22000.0   \n",
       "\n",
       "       imdb_score  aspect_ratio  movie_facebook_likes  \n",
       "count       430.0         409.0                 430.0  \n",
       "mean          7.0           2.0                7678.0  \n",
       "std           1.0           1.0               18477.0  \n",
       "min           3.0           1.0                   0.0  \n",
       "25%           6.0           2.0                   0.0  \n",
       "50%           7.0           2.0                  95.0  \n",
       "75%           7.0           2.0               10000.0  \n",
       "max           9.0          16.0              165000.0  "
      ]
     },
     "execution_count": 144,
     "metadata": {},
     "output_type": "execute_result"
    }
   ],
   "source": [
    "uk_imdb.describe().apply(round)"
   ]
  },
  {
   "cell_type": "markdown",
   "metadata": {},
   "source": [
    "Из Англии в выборку попали 430 фильмов.\n",
    "По длительности - они на 4 минуты длинне как в среднем, так и по квартилям.\n",
    "Значительные различия по кассовым сборам. Средняя по Англии на 45% ниже, чем в США. Максимум почти в 2 раза ниже.\n",
    "При этом средний рейтинг imdb_score в Англии на 1 пункт выше.\n"
   ]
  },
  {
   "cell_type": "markdown",
   "metadata": {},
   "source": [
    "#### Франция"
   ]
  },
  {
   "cell_type": "code",
   "execution_count": 145,
   "metadata": {},
   "outputs": [],
   "source": [
    "fr_imdb = mdata.loc[(mdata['country'] == 'France'), :]"
   ]
  },
  {
   "cell_type": "code",
   "execution_count": 146,
   "metadata": {},
   "outputs": [
    {
     "data": {
      "text/html": [
       "<div>\n",
       "<style scoped>\n",
       "    .dataframe tbody tr th:only-of-type {\n",
       "        vertical-align: middle;\n",
       "    }\n",
       "\n",
       "    .dataframe tbody tr th {\n",
       "        vertical-align: top;\n",
       "    }\n",
       "\n",
       "    .dataframe thead th {\n",
       "        text-align: right;\n",
       "    }\n",
       "</style>\n",
       "<table border=\"1\" class=\"dataframe\">\n",
       "  <thead>\n",
       "    <tr style=\"text-align: right;\">\n",
       "      <th></th>\n",
       "      <th>num_critic_for_reviews</th>\n",
       "      <th>duration</th>\n",
       "      <th>director_facebook_likes</th>\n",
       "      <th>actor_3_facebook_likes</th>\n",
       "      <th>actor_1_facebook_likes</th>\n",
       "      <th>gross</th>\n",
       "      <th>num_voted_users</th>\n",
       "      <th>cast_total_facebook_likes</th>\n",
       "      <th>facenumber_in_poster</th>\n",
       "      <th>num_user_for_reviews</th>\n",
       "      <th>budget</th>\n",
       "      <th>title_year</th>\n",
       "      <th>actor_2_facebook_likes</th>\n",
       "      <th>imdb_score</th>\n",
       "      <th>aspect_ratio</th>\n",
       "      <th>movie_facebook_likes</th>\n",
       "    </tr>\n",
       "  </thead>\n",
       "  <tbody>\n",
       "    <tr>\n",
       "      <th>count</th>\n",
       "      <td>153.0</td>\n",
       "      <td>153.0</td>\n",
       "      <td>152.0</td>\n",
       "      <td>152.0</td>\n",
       "      <td>153.0</td>\n",
       "      <td>120.0</td>\n",
       "      <td>153.0</td>\n",
       "      <td>153.0</td>\n",
       "      <td>153.0</td>\n",
       "      <td>153.0</td>\n",
       "      <td>130.0</td>\n",
       "      <td>152.0</td>\n",
       "      <td>153.0</td>\n",
       "      <td>153.0</td>\n",
       "      <td>146.0</td>\n",
       "      <td>153.0</td>\n",
       "    </tr>\n",
       "    <tr>\n",
       "      <th>mean</th>\n",
       "      <td>134.0</td>\n",
       "      <td>107.0</td>\n",
       "      <td>322.0</td>\n",
       "      <td>451.0</td>\n",
       "      <td>4288.0</td>\n",
       "      <td>16485639.0</td>\n",
       "      <td>52506.0</td>\n",
       "      <td>6118.0</td>\n",
       "      <td>1.0</td>\n",
       "      <td>190.0</td>\n",
       "      <td>30672035.0</td>\n",
       "      <td>2005.0</td>\n",
       "      <td>960.0</td>\n",
       "      <td>7.0</td>\n",
       "      <td>2.0</td>\n",
       "      <td>4958.0</td>\n",
       "    </tr>\n",
       "    <tr>\n",
       "      <th>std</th>\n",
       "      <td>103.0</td>\n",
       "      <td>21.0</td>\n",
       "      <td>1507.0</td>\n",
       "      <td>1351.0</td>\n",
       "      <td>8418.0</td>\n",
       "      <td>27472709.0</td>\n",
       "      <td>89396.0</td>\n",
       "      <td>10984.0</td>\n",
       "      <td>2.0</td>\n",
       "      <td>263.0</td>\n",
       "      <td>42562810.0</td>\n",
       "      <td>9.0</td>\n",
       "      <td>2535.0</td>\n",
       "      <td>1.0</td>\n",
       "      <td>2.0</td>\n",
       "      <td>12064.0</td>\n",
       "    </tr>\n",
       "    <tr>\n",
       "      <th>min</th>\n",
       "      <td>2.0</td>\n",
       "      <td>52.0</td>\n",
       "      <td>0.0</td>\n",
       "      <td>0.0</td>\n",
       "      <td>0.0</td>\n",
       "      <td>2874.0</td>\n",
       "      <td>19.0</td>\n",
       "      <td>0.0</td>\n",
       "      <td>0.0</td>\n",
       "      <td>1.0</td>\n",
       "      <td>4500.0</td>\n",
       "      <td>1964.0</td>\n",
       "      <td>0.0</td>\n",
       "      <td>2.0</td>\n",
       "      <td>1.0</td>\n",
       "      <td>0.0</td>\n",
       "    </tr>\n",
       "    <tr>\n",
       "      <th>25%</th>\n",
       "      <td>59.0</td>\n",
       "      <td>94.0</td>\n",
       "      <td>2.0</td>\n",
       "      <td>28.0</td>\n",
       "      <td>235.0</td>\n",
       "      <td>604167.0</td>\n",
       "      <td>5693.0</td>\n",
       "      <td>502.0</td>\n",
       "      <td>0.0</td>\n",
       "      <td>34.0</td>\n",
       "      <td>9125000.0</td>\n",
       "      <td>2002.0</td>\n",
       "      <td>80.0</td>\n",
       "      <td>6.0</td>\n",
       "      <td>2.0</td>\n",
       "      <td>0.0</td>\n",
       "    </tr>\n",
       "    <tr>\n",
       "      <th>50%</th>\n",
       "      <td>112.0</td>\n",
       "      <td>105.0</td>\n",
       "      <td>31.0</td>\n",
       "      <td>116.0</td>\n",
       "      <td>678.0</td>\n",
       "      <td>4367684.0</td>\n",
       "      <td>19386.0</td>\n",
       "      <td>1389.0</td>\n",
       "      <td>1.0</td>\n",
       "      <td>90.0</td>\n",
       "      <td>19715000.0</td>\n",
       "      <td>2006.0</td>\n",
       "      <td>289.0</td>\n",
       "      <td>7.0</td>\n",
       "      <td>2.0</td>\n",
       "      <td>44.0</td>\n",
       "    </tr>\n",
       "    <tr>\n",
       "      <th>75%</th>\n",
       "      <td>181.0</td>\n",
       "      <td>118.0</td>\n",
       "      <td>180.0</td>\n",
       "      <td>403.0</td>\n",
       "      <td>2000.0</td>\n",
       "      <td>20289879.0</td>\n",
       "      <td>55928.0</td>\n",
       "      <td>4606.0</td>\n",
       "      <td>2.0</td>\n",
       "      <td>220.0</td>\n",
       "      <td>40000000.0</td>\n",
       "      <td>2011.0</td>\n",
       "      <td>678.0</td>\n",
       "      <td>7.0</td>\n",
       "      <td>2.0</td>\n",
       "      <td>853.0</td>\n",
       "    </tr>\n",
       "    <tr>\n",
       "      <th>max</th>\n",
       "      <td>576.0</td>\n",
       "      <td>206.0</td>\n",
       "      <td>14000.0</td>\n",
       "      <td>10000.0</td>\n",
       "      <td>49000.0</td>\n",
       "      <td>145000989.0</td>\n",
       "      <td>534262.0</td>\n",
       "      <td>58528.0</td>\n",
       "      <td>9.0</td>\n",
       "      <td>1768.0</td>\n",
       "      <td>390000000.0</td>\n",
       "      <td>2016.0</td>\n",
       "      <td>14000.0</td>\n",
       "      <td>8.0</td>\n",
       "      <td>16.0</td>\n",
       "      <td>83000.0</td>\n",
       "    </tr>\n",
       "  </tbody>\n",
       "</table>\n",
       "</div>"
      ],
      "text/plain": [
       "       num_critic_for_reviews  duration  director_facebook_likes  \\\n",
       "count                   153.0     153.0                    152.0   \n",
       "mean                    134.0     107.0                    322.0   \n",
       "std                     103.0      21.0                   1507.0   \n",
       "min                       2.0      52.0                      0.0   \n",
       "25%                      59.0      94.0                      2.0   \n",
       "50%                     112.0     105.0                     31.0   \n",
       "75%                     181.0     118.0                    180.0   \n",
       "max                     576.0     206.0                  14000.0   \n",
       "\n",
       "       actor_3_facebook_likes  actor_1_facebook_likes        gross  \\\n",
       "count                   152.0                   153.0        120.0   \n",
       "mean                    451.0                  4288.0   16485639.0   \n",
       "std                    1351.0                  8418.0   27472709.0   \n",
       "min                       0.0                     0.0       2874.0   \n",
       "25%                      28.0                   235.0     604167.0   \n",
       "50%                     116.0                   678.0    4367684.0   \n",
       "75%                     403.0                  2000.0   20289879.0   \n",
       "max                   10000.0                 49000.0  145000989.0   \n",
       "\n",
       "       num_voted_users  cast_total_facebook_likes  facenumber_in_poster  \\\n",
       "count            153.0                      153.0                 153.0   \n",
       "mean           52506.0                     6118.0                   1.0   \n",
       "std            89396.0                    10984.0                   2.0   \n",
       "min               19.0                        0.0                   0.0   \n",
       "25%             5693.0                      502.0                   0.0   \n",
       "50%            19386.0                     1389.0                   1.0   \n",
       "75%            55928.0                     4606.0                   2.0   \n",
       "max           534262.0                    58528.0                   9.0   \n",
       "\n",
       "       num_user_for_reviews       budget  title_year  actor_2_facebook_likes  \\\n",
       "count                 153.0        130.0       152.0                   153.0   \n",
       "mean                  190.0   30672035.0      2005.0                   960.0   \n",
       "std                   263.0   42562810.0         9.0                  2535.0   \n",
       "min                     1.0       4500.0      1964.0                     0.0   \n",
       "25%                    34.0    9125000.0      2002.0                    80.0   \n",
       "50%                    90.0   19715000.0      2006.0                   289.0   \n",
       "75%                   220.0   40000000.0      2011.0                   678.0   \n",
       "max                  1768.0  390000000.0      2016.0                 14000.0   \n",
       "\n",
       "       imdb_score  aspect_ratio  movie_facebook_likes  \n",
       "count       153.0         146.0                 153.0  \n",
       "mean          7.0           2.0                4958.0  \n",
       "std           1.0           2.0               12064.0  \n",
       "min           2.0           1.0                   0.0  \n",
       "25%           6.0           2.0                   0.0  \n",
       "50%           7.0           2.0                  44.0  \n",
       "75%           7.0           2.0                 853.0  \n",
       "max           8.0          16.0               83000.0  "
      ]
     },
     "execution_count": 146,
     "metadata": {},
     "output_type": "execute_result"
    }
   ],
   "source": [
    "fr_imdb.describe().apply(round)"
   ]
  },
  {
   "cell_type": "markdown",
   "metadata": {},
   "source": [
    "Французких фильмов в выборке  154.\n",
    "По длительности фильмы он 52 мин до 206. При средней 107 минут, как в генеральной совокупности.\n",
    "Меньший диапазон, возможно, обусловлен небольшим размером выборки. Сложно судить об общей вариативности французких фильмов.\n",
    "Средние кассовые сборы на 70% ниже, чем в США.\n",
    "Можно отметить, что в выборку попали более \"свежие\" фильмы по дате производстав, чем в целом. Средняя 2005 год (2002 в генеральной совокупности).\n",
    "По рейтингам примечательно, что максимальная оценка у фильмов была 8 пунктов. Т.е не было отмечено \"выдающихся\" лент."
   ]
  },
  {
   "cell_type": "code",
   "execution_count": null,
   "metadata": {},
   "outputs": [],
   "source": []
  }
 ],
 "metadata": {
  "kernelspec": {
   "display_name": "Python 3",
   "language": "python",
   "name": "python3"
  },
  "language_info": {
   "codemirror_mode": {
    "name": "ipython",
    "version": 3
   },
   "file_extension": ".py",
   "mimetype": "text/x-python",
   "name": "python",
   "nbconvert_exporter": "python",
   "pygments_lexer": "ipython3",
   "version": "3.7.3"
  }
 },
 "nbformat": 4,
 "nbformat_minor": 2
}
